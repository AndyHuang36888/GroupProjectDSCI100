{
 "cells": [
  {
   "cell_type": "code",
   "execution_count": null,
   "id": "d709e9fe-9690-42aa-822c-52c207eefa58",
   "metadata": {
    "vscode": {
     "languageId": "r"
    }
   },
   "outputs": [],
   "source": [
    "library(tidyverse)\n",
    "library(cowplot)\n",
    "library(RColorBrewer)"
   ]
  },
  {
   "cell_type": "markdown",
   "id": "29ec84ed-d2c3-4673-bf5c-3781c4388cea",
   "metadata": {},
   "source": [
    "# Data Description \n",
    "## Observations and Variables\n",
    "As shown in the tables below we can see that:\n",
    "\n",
    "In the player dataset, there are **196** observations, and **7** variables:\n",
    "- **experience**<chr>: The level of experience of the player.\n",
    "- **subscribe**<lgl>: Whether the player is subscribed is represented in the type boolean.\n",
    "- **hashedEmail**<chr>: The hashed email of the player.\n",
    "- **played_hours**<dbl>:The number of hours played is represented in the type double.\n",
    "- **name**<chr>: The name of the player.\n",
    "- **gender**<chr>: The gender of the player.\n",
    "- **Age**<dbl>: The age of the player.\n",
    "\n",
    "In the sessions dataset, there are **1535** observations, and **5** variables:\n",
    "- **hasedEmail**<chr>: the encrypted email of the player.\n",
    "- **start_time**<chr>: the start time of the session.\n",
    "- **end_time<chr>**:The end time of the session.\n",
    "- **original_start_time**<dbl>: The time passed since the start of the project when the session started.\n",
    "- **original_end_time**<dbl>: The time passed since the start of the project when the session ended.\n",
    " \n",
    "## summary statistics\n",
    "In the **player** dataset we can see that:\n",
    "- **Mean age**: 20.52062\n",
    "- **Max age**: 50\n",
    "- **Min age**: 8\n",
    "- **Mean played hours**: 5.845918\n",
    "- **Max played hours**: 223.1\n",
    "- **Min played hours**: 0\n",
    "\n",
    "## Issues\n",
    "- Start time and end_time in the sessions dataset have the year, month, date, and hours in one variable.\n",
    "- The original_start_time and original_end_time are in a very small unkown unit.\n",
    "- The name of variable Age and hashedEmail is in a different format then the other variables in the player dataset.\n",
    "- There might be NA values in the dataset."
   ]
  },
  {
   "cell_type": "code",
   "execution_count": null,
   "id": "8ce4e73d-bb1d-4748-b6bf-448dab5fb856",
   "metadata": {
    "vscode": {
     "languageId": "r"
    }
   },
   "outputs": [],
   "source": [
    "players <- read_csv(\"https://raw.githubusercontent.com/AndyHuang36888/GroupProjectDSCI100/refs/heads/main/players.csv\")\n",
    "sessions <- read_csv(\"data/sessions.csv\")\n",
    "\n",
    "\n",
    "# tidy data\n",
    "colnames(players) <-c(\"experience\", \"subscribe\", \"hashed_email\", \"played_hours\", \"name\", \"gender\",\"age\")\n",
    "colnames(sessions) <-c(\"hashed_email\", \"start_time\", \"end_time\", \"original_start_time\",\"original_end_time\")\n",
    "\n",
    "players_stats <- players|>\n",
    "                 select(age, played_hours)\n",
    "\n",
    "players_mean <- map_df(players_stats, mean, na.rm = TRUE)            \n",
    "players_max <- map_df(players_stats, max, na.rm = TRUE)\n",
    "players_min <- map_df(players_stats, min, na.rm = TRUE)\n",
    "players_summary <- bind_cols(players_mean, players_max) |>\n",
    "                   bind_cols(players_min)\n",
    "colnames(players_summary) <- c(\"mean_age\", \"mean_played_hours\", \"max_age\", \"max_played_hours\", \"min_age\", \"min_played_hours\")\n",
    "players_summary\n",
    "head(players)\n",
    "head(sessions)"
   ]
  },
  {
   "cell_type": "markdown",
   "id": "db9daa1f-156d-42c2-aed2-f2cd3c720cb4",
   "metadata": {},
   "source": [
    "# Questions\n",
    "Can the variables played_hours, age, and experience predict who has subscribed to a game letter in the player's data set? \n",
    "\n",
    "The players hours played, age, and level of experience could be predictive of the player's tendency to subscribe to a game's newsletter. I can use K-nearest-neighbours to build a model that can try to predict if the player is subscribed to a game newsletter with these variables.\n",
    "Among these variables, the player's experience is the type string, I will need to convert it to a numeric value if I want to use it as a predictor."
   ]
  },
  {
   "cell_type": "markdown",
   "id": "c438034b-4a52-4849-af6e-6455a6722601",
   "metadata": {},
   "source": [
    "# Visualization\n",
    "Below are some visualizations of the data and the relationship of selected predictors."
   ]
  },
  {
   "cell_type": "code",
   "execution_count": null,
   "id": "a2477ad0-453c-4196-9b05-ae55191267e9",
   "metadata": {
    "vscode": {
     "languageId": "r"
    }
   },
   "outputs": [],
   "source": [
    "options(repr.plot.width = 20, repr.plot.height = 8) \n",
    "\n",
    "players_point <- players |>\n",
    "                 mutate(experience = factor(experience, levels = c(\"Beginner\", \"Amateur\", \"Regular\", \"Veteran\", \"Pro\"))) |>\n",
    "                 ggplot(aes(x = played_hours, y = age, color = experience)) +\n",
    "                 geom_point() +  \n",
    "                 xlim(0, 15) +\n",
    "                 scale_fill_brewer(palette = \"Set1\") +\n",
    "                 labs(title = \"Age vs Played Hours\",\n",
    "                 x = \"Played (hours)\",\n",
    "                 y = \"Age (year)\",\n",
    "                 fill = \"Experience\")\n",
    "\n",
    "\n",
    "players_experiece <- players |>\n",
    "                 arrange(played_hours) |>\n",
    "                 mutate(experience = factor(experience, levels = c(\"Beginner\", \"Amateur\", \"Regular\", \"Veteran\", \"Pro\"))) |>\n",
    "                 ggplot(aes(x = experience, fill = subscribe)) +\n",
    "                 geom_bar() +  \n",
    "                 scale_fill_brewer(palette = \"Set1\") +\n",
    "                 labs(title = \"Subscribe vs Experience\",\n",
    "                 y = \"Subscribed players\",\n",
    "                 x = \"Experience\",\n",
    "                 fill = \"Subscribe\")\n",
    "\n",
    "players_age <-   players |>\n",
    "                 arrange(age) |>\n",
    "                 mutate(experience = factor(experience, levels = c(\"Beginner\", \"Amateur\", \"Regular\", \"Veteran\", \"Pro\"))) |>\n",
    "                 ggplot(aes(x = age, fill = subscribe)) +\n",
    "                 geom_histogram(binwidth =5) +  \n",
    "                 scale_fill_brewer(palette = \"Set1\") +\n",
    "                 labs(title = \"Subscribe vs Age\",\n",
    "                 x = \"Age (years)\",\n",
    "                 y = \"Experience ratio\",\n",
    "                 fill = \"Subscribe\")\n",
    "                 \n",
    "players_hours <- players |>\n",
    "                 mutate(experience = factor(experience, levels = c(\"Beginner\", \"Amateur\", \"Regular\", \"Veteran\", \"Pro\"))) |>\n",
    "                 ggplot(aes(x = played_hours, fill = subscribe)) +\n",
    "                 geom_histogram() + \n",
    "                 xlim(0, 20) +\n",
    "                 ylim(0, 30) +\n",
    "                 scale_fill_brewer(palette = \"Set1\") +\n",
    "                 labs(title = \"Player's Hours distribution\",\n",
    "                 x = \"Played Hours\",\n",
    "                 y = \"Amount of players\",\n",
    "                 fill = \"Subscribe\")\n",
    "players_point\n",
    "plot_grid(players_experiece, players_age, players_hours, ncol = 3)\n"
   ]
  },
  {
   "cell_type": "markdown",
   "id": "f328d793-7127-4879-b296-587ef71e4508",
   "metadata": {},
   "source": [
    "From the graphs, we can see that there are not a lot of players that play more than 10 hours. This has cause a huge empty gap in the last graph. We can also see that the majority of the players are between the age of 10 to 25 years old.\n",
    "\n",
    "There are also a lot more amateur players than pro players, and that could skew the data when doing the classification. There are also more subscribed players than unsubscribed players, which could also cause the model to predict that the player is subscribed more often."
   ]
  },
  {
   "cell_type": "markdown",
   "id": "630e0aa3-17de-4201-bc34-a1c55923b27a",
   "metadata": {},
   "source": [
    "# Methods and Plan\n",
    "I can use k-nearest-neighbours classification to predict the player's experience, since subscribe is a categorical variable.\n",
    "It is assumed that players in the same class have the similar stats and appear in the same general area of the graph.\n",
    "One potential issue is that I might not be using enough predictors, or the predictors chosen are not correlated to the player's experience.\n",
    "\n",
    "\n",
    "The data is going to be split into two sets, with 75% as the training set and 25% as the testing set. The training data will be spilt into 5 more sets, so the model can be trained with cross validation. \n",
    "I am going to compare the metrics of the models with different k values and select the one with the best accuracy.\n"
   ]
  }
 ],
 "metadata": {
  "kernelspec": {
   "display_name": "R",
   "language": "R",
   "name": "ir"
  },
  "language_info": {
   "codemirror_mode": "r",
   "file_extension": ".r",
   "mimetype": "text/x-r-source",
   "name": "R",
   "pygments_lexer": "r",
   "version": "4.3.3"
  }
 },
 "nbformat": 4,
 "nbformat_minor": 5
}
