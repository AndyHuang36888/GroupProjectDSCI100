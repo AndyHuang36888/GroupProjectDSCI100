{
 "cells": [
  {
   "cell_type": "code",
   "execution_count": 2,
   "id": "d709e9fe-9690-42aa-822c-52c207eefa58",
   "metadata": {
    "vscode": {
     "languageId": "r"
    }
   },
   "outputs": [
    {
     "name": "stderr",
     "output_type": "stream",
     "text": [
      "── \u001b[1mAttaching core tidyverse packages\u001b[22m ──────────────────────── tidyverse 2.0.0 ──\n",
      "\u001b[32m✔\u001b[39m \u001b[34mdplyr    \u001b[39m 1.1.4     \u001b[32m✔\u001b[39m \u001b[34mreadr    \u001b[39m 2.1.5\n",
      "\u001b[32m✔\u001b[39m \u001b[34mforcats  \u001b[39m 1.0.0     \u001b[32m✔\u001b[39m \u001b[34mstringr  \u001b[39m 1.5.1\n",
      "\u001b[32m✔\u001b[39m \u001b[34mggplot2  \u001b[39m 3.5.1     \u001b[32m✔\u001b[39m \u001b[34mtibble   \u001b[39m 3.2.1\n",
      "\u001b[32m✔\u001b[39m \u001b[34mlubridate\u001b[39m 1.9.3     \u001b[32m✔\u001b[39m \u001b[34mtidyr    \u001b[39m 1.3.1\n",
      "\u001b[32m✔\u001b[39m \u001b[34mpurrr    \u001b[39m 1.0.2     \n",
      "── \u001b[1mConflicts\u001b[22m ────────────────────────────────────────── tidyverse_conflicts() ──\n",
      "\u001b[31m✖\u001b[39m \u001b[34mdplyr\u001b[39m::\u001b[32mfilter()\u001b[39m masks \u001b[34mstats\u001b[39m::filter()\n",
      "\u001b[31m✖\u001b[39m \u001b[34mdplyr\u001b[39m::\u001b[32mlag()\u001b[39m    masks \u001b[34mstats\u001b[39m::lag()\n",
      "\u001b[36mℹ\u001b[39m Use the conflicted package (\u001b[3m\u001b[34m<http://conflicted.r-lib.org/>\u001b[39m\u001b[23m) to force all conflicts to become errors\n",
      "── \u001b[1mAttaching packages\u001b[22m ────────────────────────────────────── tidymodels 1.1.1 ──\n",
      "\n",
      "\u001b[32m✔\u001b[39m \u001b[34mbroom       \u001b[39m 1.0.6     \u001b[32m✔\u001b[39m \u001b[34mrsample     \u001b[39m 1.2.1\n",
      "\u001b[32m✔\u001b[39m \u001b[34mdials       \u001b[39m 1.3.0     \u001b[32m✔\u001b[39m \u001b[34mtune        \u001b[39m 1.1.2\n",
      "\u001b[32m✔\u001b[39m \u001b[34minfer       \u001b[39m 1.0.7     \u001b[32m✔\u001b[39m \u001b[34mworkflows   \u001b[39m 1.1.4\n",
      "\u001b[32m✔\u001b[39m \u001b[34mmodeldata   \u001b[39m 1.4.0     \u001b[32m✔\u001b[39m \u001b[34mworkflowsets\u001b[39m 1.0.1\n",
      "\u001b[32m✔\u001b[39m \u001b[34mparsnip     \u001b[39m 1.2.1     \u001b[32m✔\u001b[39m \u001b[34myardstick   \u001b[39m 1.3.1\n",
      "\u001b[32m✔\u001b[39m \u001b[34mrecipes     \u001b[39m 1.1.0     \n",
      "\n",
      "── \u001b[1mConflicts\u001b[22m ───────────────────────────────────────── tidymodels_conflicts() ──\n",
      "\u001b[31m✖\u001b[39m \u001b[34mscales\u001b[39m::\u001b[32mdiscard()\u001b[39m masks \u001b[34mpurrr\u001b[39m::discard()\n",
      "\u001b[31m✖\u001b[39m \u001b[34mdplyr\u001b[39m::\u001b[32mfilter()\u001b[39m   masks \u001b[34mstats\u001b[39m::filter()\n",
      "\u001b[31m✖\u001b[39m \u001b[34mrecipes\u001b[39m::\u001b[32mfixed()\u001b[39m  masks \u001b[34mstringr\u001b[39m::fixed()\n",
      "\u001b[31m✖\u001b[39m \u001b[34mdplyr\u001b[39m::\u001b[32mlag()\u001b[39m      masks \u001b[34mstats\u001b[39m::lag()\n",
      "\u001b[31m✖\u001b[39m \u001b[34myardstick\u001b[39m::\u001b[32mspec()\u001b[39m masks \u001b[34mreadr\u001b[39m::spec()\n",
      "\u001b[31m✖\u001b[39m \u001b[34mrecipes\u001b[39m::\u001b[32mstep()\u001b[39m   masks \u001b[34mstats\u001b[39m::step()\n",
      "\u001b[34m•\u001b[39m Learn how to get started at \u001b[32mhttps://www.tidymodels.org/start/\u001b[39m\n",
      "\n",
      "\n",
      "Attaching package: ‘cowplot’\n",
      "\n",
      "\n",
      "The following object is masked from ‘package:lubridate’:\n",
      "\n",
      "    stamp\n",
      "\n",
      "\n"
     ]
    }
   ],
   "source": [
    "library(tidyverse)\n",
    "library(tidymodels)\n",
    "library(cowplot)\n",
    "library(RColorBrewer)"
   ]
  },
  {
   "cell_type": "markdown",
   "id": "29ec84ed-d2c3-4673-bf5c-3781c4388cea",
   "metadata": {},
   "source": [
    "# DSCI_GROUP_13_FINAL_PROJECT\n",
    "\n",
    "## Introduction\n",
    "### Background\n",
    "The intersection of video games and research presents unique opportunities for data collection and analysis. At the University of British Columbia, a research group in Computer Science led by Frank Wood has established a dedicated Minecraft server to collect data on player behavior and interactions within the virtual environment. This innovative approach allows researchers to gather authentic data about player engagement patterns, decision-making processes, and social interactions within the gaming ecosystem.\n",
    "\n",
    "### Research Question\n",
    "This project seeks to address the following question: **Does playing time affect newsletter subscription rates, and does this relationship vary by age?** \n",
    "Specifically, we aim to understand whether the amount of time users spend engaged with the platform influences their likelihood to subscribe to newsletters, and how this relationship might be moderated by age.\n",
    "\n",
    "### Observations and Variables\n",
    "As shown in the tables below we can see that:\n",
    "\n",
    "In the player dataset, there are **196** observations, and **7** variables:\n",
    "- **experience**<chr>: The level of experience of the player.\n",
    "- **subscribe**<lgl>: Whether the player is subscribed is represented in the type boolean.\n",
    "- **hashedEmail**<chr>: The hashed email of the player.\n",
    "- **played_hours**<dbl>:The number of hours played is represented in the type double.\n",
    "- **name**<chr>: The name of the player.\n",
    "- **gender**<chr>: The gender of the player.\n",
    "- **Age**<dbl>: The age of the player.\n",
    "\n",
    "In the sessions dataset, there are **1535** observations, and **5** variables:\n",
    "- **hasedEmail**<chr>: the encrypted email of the player.\n",
    "- **start_time**<chr>: the start time of the session.\n",
    "- **end_time<chr>**:The end time of the session.\n",
    "- **original_start_time**<dbl>: The time passed since the start of the project when the session started.\n",
    "- **original_end_time**<dbl>: The time passed since the start of the project when the session ended.\n",
    " \n",
    "### Summary statistics\n",
    "In the **player** dataset we can see that:\n",
    "- **Mean age**: 20.52062\n",
    "- **Max age**: 50\n",
    "- **Min age**: 8\n",
    "- **Mean played hours**: 5.845918\n",
    "- **Max played hours**: 223.1\n",
    "- **Min played hours**: 0\n",
    "\n",
    "### Issues\n",
    "- Start time and end_time in the sessions dataset have the year, month, date, and hours in one variable.\n",
    "- The original_start_time and original_end_time are in a very small unkown unit.\n",
    "- The name of variable Age and hashedEmail is in a different format then the other variables in the player dataset.\n",
    "- There might be NA values in the dataset."
   ]
  },
  {
   "cell_type": "code",
   "execution_count": 3,
   "id": "8ce4e73d-bb1d-4748-b6bf-448dab5fb856",
   "metadata": {
    "vscode": {
     "languageId": "r"
    }
   },
   "outputs": [
    {
     "name": "stderr",
     "output_type": "stream",
     "text": [
      "\u001b[1mRows: \u001b[22m\u001b[34m196\u001b[39m \u001b[1mColumns: \u001b[22m\u001b[34m7\u001b[39m\n",
      "\u001b[36m──\u001b[39m \u001b[1mColumn specification\u001b[22m \u001b[36m────────────────────────────────────────────────────────\u001b[39m\n",
      "\u001b[1mDelimiter:\u001b[22m \",\"\n",
      "\u001b[31mchr\u001b[39m (4): experience, hashedEmail, name, gender\n",
      "\u001b[32mdbl\u001b[39m (2): played_hours, Age\n",
      "\u001b[33mlgl\u001b[39m (1): subscribe\n",
      "\n",
      "\u001b[36mℹ\u001b[39m Use `spec()` to retrieve the full column specification for this data.\n",
      "\u001b[36mℹ\u001b[39m Specify the column types or set `show_col_types = FALSE` to quiet this message.\n",
      "\u001b[1mRows: \u001b[22m\u001b[34m1535\u001b[39m \u001b[1mColumns: \u001b[22m\u001b[34m5\u001b[39m\n",
      "\u001b[36m──\u001b[39m \u001b[1mColumn specification\u001b[22m \u001b[36m────────────────────────────────────────────────────────\u001b[39m\n",
      "\u001b[1mDelimiter:\u001b[22m \",\"\n",
      "\u001b[31mchr\u001b[39m (3): hashedEmail, start_time, end_time\n",
      "\u001b[32mdbl\u001b[39m (2): original_start_time, original_end_time\n",
      "\n",
      "\u001b[36mℹ\u001b[39m Use `spec()` to retrieve the full column specification for this data.\n",
      "\u001b[36mℹ\u001b[39m Specify the column types or set `show_col_types = FALSE` to quiet this message.\n",
      "\u001b[1m\u001b[22mNew names:\n",
      "\u001b[36m•\u001b[39m `age` -> `age...1`\n",
      "\u001b[36m•\u001b[39m `played_hours` -> `played_hours...2`\n",
      "\u001b[36m•\u001b[39m `age` -> `age...3`\n",
      "\u001b[36m•\u001b[39m `played_hours` -> `played_hours...4`\n",
      "\u001b[1m\u001b[22mNew names:\n",
      "\u001b[36m•\u001b[39m `age` -> `age...5`\n",
      "\u001b[36m•\u001b[39m `played_hours` -> `played_hours...6`\n"
     ]
    },
    {
     "data": {
      "text/html": [
       "<table class=\"dataframe\">\n",
       "<caption>A tibble: 1 × 6</caption>\n",
       "<thead>\n",
       "\t<tr><th scope=col>mean_age</th><th scope=col>mean_played_hours</th><th scope=col>max_age</th><th scope=col>max_played_hours</th><th scope=col>min_age</th><th scope=col>min_played_hours</th></tr>\n",
       "\t<tr><th scope=col>&lt;dbl&gt;</th><th scope=col>&lt;dbl&gt;</th><th scope=col>&lt;dbl&gt;</th><th scope=col>&lt;dbl&gt;</th><th scope=col>&lt;dbl&gt;</th><th scope=col>&lt;dbl&gt;</th></tr>\n",
       "</thead>\n",
       "<tbody>\n",
       "\t<tr><td>20.52062</td><td>5.845918</td><td>50</td><td>223.1</td><td>8</td><td>0</td></tr>\n",
       "</tbody>\n",
       "</table>\n"
      ],
      "text/latex": [
       "A tibble: 1 × 6\n",
       "\\begin{tabular}{llllll}\n",
       " mean\\_age & mean\\_played\\_hours & max\\_age & max\\_played\\_hours & min\\_age & min\\_played\\_hours\\\\\n",
       " <dbl> & <dbl> & <dbl> & <dbl> & <dbl> & <dbl>\\\\\n",
       "\\hline\n",
       "\t 20.52062 & 5.845918 & 50 & 223.1 & 8 & 0\\\\\n",
       "\\end{tabular}\n"
      ],
      "text/markdown": [
       "\n",
       "A tibble: 1 × 6\n",
       "\n",
       "| mean_age &lt;dbl&gt; | mean_played_hours &lt;dbl&gt; | max_age &lt;dbl&gt; | max_played_hours &lt;dbl&gt; | min_age &lt;dbl&gt; | min_played_hours &lt;dbl&gt; |\n",
       "|---|---|---|---|---|---|\n",
       "| 20.52062 | 5.845918 | 50 | 223.1 | 8 | 0 |\n",
       "\n"
      ],
      "text/plain": [
       "  mean_age mean_played_hours max_age max_played_hours min_age min_played_hours\n",
       "1 20.52062 5.845918          50      223.1            8       0               "
      ]
     },
     "metadata": {},
     "output_type": "display_data"
    },
    {
     "data": {
      "text/html": [
       "<table class=\"dataframe\">\n",
       "<caption>A tibble: 6 × 7</caption>\n",
       "<thead>\n",
       "\t<tr><th scope=col>experience</th><th scope=col>subscribe</th><th scope=col>hashed_email</th><th scope=col>played_hours</th><th scope=col>name</th><th scope=col>gender</th><th scope=col>age</th></tr>\n",
       "\t<tr><th scope=col>&lt;chr&gt;</th><th scope=col>&lt;lgl&gt;</th><th scope=col>&lt;chr&gt;</th><th scope=col>&lt;dbl&gt;</th><th scope=col>&lt;chr&gt;</th><th scope=col>&lt;chr&gt;</th><th scope=col>&lt;dbl&gt;</th></tr>\n",
       "</thead>\n",
       "<tbody>\n",
       "\t<tr><td>Pro    </td><td> TRUE</td><td>f6daba428a5e19a3d47574858c13550499be23603422e6a0ee9728f8b53e192d</td><td>30.3</td><td>Morgan   </td><td>Male  </td><td> 9</td></tr>\n",
       "\t<tr><td>Veteran</td><td> TRUE</td><td>f3c813577c458ba0dfef80996f8f32c93b6e8af1fa939732842f2312358a88e9</td><td> 3.8</td><td>Christian</td><td>Male  </td><td>17</td></tr>\n",
       "\t<tr><td>Veteran</td><td>FALSE</td><td>b674dd7ee0d24096d1c019615ce4d12b20fcbff12d79d3c5a9d2118eb7ccbb28</td><td> 0.0</td><td>Blake    </td><td>Male  </td><td>17</td></tr>\n",
       "\t<tr><td>Amateur</td><td> TRUE</td><td>23fe711e0e3b77f1da7aa221ab1192afe21648d47d2b4fa7a5a659ff443a0eb5</td><td> 0.7</td><td>Flora    </td><td>Female</td><td>21</td></tr>\n",
       "\t<tr><td>Regular</td><td> TRUE</td><td>7dc01f10bf20671ecfccdac23812b1b415acd42c2147cb0af4d48fcce2420f3e</td><td> 0.1</td><td>Kylie    </td><td>Male  </td><td>21</td></tr>\n",
       "\t<tr><td>Amateur</td><td> TRUE</td><td>f58aad5996a435f16b0284a3b267f973f9af99e7a89bee0430055a44fa92f977</td><td> 0.0</td><td>Adrian   </td><td>Female</td><td>17</td></tr>\n",
       "</tbody>\n",
       "</table>\n"
      ],
      "text/latex": [
       "A tibble: 6 × 7\n",
       "\\begin{tabular}{lllllll}\n",
       " experience & subscribe & hashed\\_email & played\\_hours & name & gender & age\\\\\n",
       " <chr> & <lgl> & <chr> & <dbl> & <chr> & <chr> & <dbl>\\\\\n",
       "\\hline\n",
       "\t Pro     &  TRUE & f6daba428a5e19a3d47574858c13550499be23603422e6a0ee9728f8b53e192d & 30.3 & Morgan    & Male   &  9\\\\\n",
       "\t Veteran &  TRUE & f3c813577c458ba0dfef80996f8f32c93b6e8af1fa939732842f2312358a88e9 &  3.8 & Christian & Male   & 17\\\\\n",
       "\t Veteran & FALSE & b674dd7ee0d24096d1c019615ce4d12b20fcbff12d79d3c5a9d2118eb7ccbb28 &  0.0 & Blake     & Male   & 17\\\\\n",
       "\t Amateur &  TRUE & 23fe711e0e3b77f1da7aa221ab1192afe21648d47d2b4fa7a5a659ff443a0eb5 &  0.7 & Flora     & Female & 21\\\\\n",
       "\t Regular &  TRUE & 7dc01f10bf20671ecfccdac23812b1b415acd42c2147cb0af4d48fcce2420f3e &  0.1 & Kylie     & Male   & 21\\\\\n",
       "\t Amateur &  TRUE & f58aad5996a435f16b0284a3b267f973f9af99e7a89bee0430055a44fa92f977 &  0.0 & Adrian    & Female & 17\\\\\n",
       "\\end{tabular}\n"
      ],
      "text/markdown": [
       "\n",
       "A tibble: 6 × 7\n",
       "\n",
       "| experience &lt;chr&gt; | subscribe &lt;lgl&gt; | hashed_email &lt;chr&gt; | played_hours &lt;dbl&gt; | name &lt;chr&gt; | gender &lt;chr&gt; | age &lt;dbl&gt; |\n",
       "|---|---|---|---|---|---|---|\n",
       "| Pro     |  TRUE | f6daba428a5e19a3d47574858c13550499be23603422e6a0ee9728f8b53e192d | 30.3 | Morgan    | Male   |  9 |\n",
       "| Veteran |  TRUE | f3c813577c458ba0dfef80996f8f32c93b6e8af1fa939732842f2312358a88e9 |  3.8 | Christian | Male   | 17 |\n",
       "| Veteran | FALSE | b674dd7ee0d24096d1c019615ce4d12b20fcbff12d79d3c5a9d2118eb7ccbb28 |  0.0 | Blake     | Male   | 17 |\n",
       "| Amateur |  TRUE | 23fe711e0e3b77f1da7aa221ab1192afe21648d47d2b4fa7a5a659ff443a0eb5 |  0.7 | Flora     | Female | 21 |\n",
       "| Regular |  TRUE | 7dc01f10bf20671ecfccdac23812b1b415acd42c2147cb0af4d48fcce2420f3e |  0.1 | Kylie     | Male   | 21 |\n",
       "| Amateur |  TRUE | f58aad5996a435f16b0284a3b267f973f9af99e7a89bee0430055a44fa92f977 |  0.0 | Adrian    | Female | 17 |\n",
       "\n"
      ],
      "text/plain": [
       "  experience subscribe\n",
       "1 Pro         TRUE    \n",
       "2 Veteran     TRUE    \n",
       "3 Veteran    FALSE    \n",
       "4 Amateur     TRUE    \n",
       "5 Regular     TRUE    \n",
       "6 Amateur     TRUE    \n",
       "  hashed_email                                                     played_hours\n",
       "1 f6daba428a5e19a3d47574858c13550499be23603422e6a0ee9728f8b53e192d 30.3        \n",
       "2 f3c813577c458ba0dfef80996f8f32c93b6e8af1fa939732842f2312358a88e9  3.8        \n",
       "3 b674dd7ee0d24096d1c019615ce4d12b20fcbff12d79d3c5a9d2118eb7ccbb28  0.0        \n",
       "4 23fe711e0e3b77f1da7aa221ab1192afe21648d47d2b4fa7a5a659ff443a0eb5  0.7        \n",
       "5 7dc01f10bf20671ecfccdac23812b1b415acd42c2147cb0af4d48fcce2420f3e  0.1        \n",
       "6 f58aad5996a435f16b0284a3b267f973f9af99e7a89bee0430055a44fa92f977  0.0        \n",
       "  name      gender age\n",
       "1 Morgan    Male    9 \n",
       "2 Christian Male   17 \n",
       "3 Blake     Male   17 \n",
       "4 Flora     Female 21 \n",
       "5 Kylie     Male   21 \n",
       "6 Adrian    Female 17 "
      ]
     },
     "metadata": {},
     "output_type": "display_data"
    },
    {
     "data": {
      "text/html": [
       "<table class=\"dataframe\">\n",
       "<caption>A tibble: 6 × 5</caption>\n",
       "<thead>\n",
       "\t<tr><th scope=col>hashed_email</th><th scope=col>start_time</th><th scope=col>end_time</th><th scope=col>original_start_time</th><th scope=col>original_end_time</th></tr>\n",
       "\t<tr><th scope=col>&lt;chr&gt;</th><th scope=col>&lt;chr&gt;</th><th scope=col>&lt;chr&gt;</th><th scope=col>&lt;dbl&gt;</th><th scope=col>&lt;dbl&gt;</th></tr>\n",
       "</thead>\n",
       "<tbody>\n",
       "\t<tr><td>bfce39c89d6549f2bb94d8064d3ce69dc3d7e72b38f431d8aa0c4bf95ccee6bf</td><td>30/06/2024 18:12</td><td>30/06/2024 18:24</td><td>1.71977e+12</td><td>1.71977e+12</td></tr>\n",
       "\t<tr><td>36d9cbb4c6bc0c1a6911436d2da0d09ec625e43e6552f575d4acc9cf487c4686</td><td>17/06/2024 23:33</td><td>17/06/2024 23:46</td><td>1.71867e+12</td><td>1.71867e+12</td></tr>\n",
       "\t<tr><td>f8f5477f5a2e53616ae37421b1c660b971192bd8ff77e3398304c7ae42581fdc</td><td>25/07/2024 17:34</td><td>25/07/2024 17:57</td><td>1.72193e+12</td><td>1.72193e+12</td></tr>\n",
       "\t<tr><td>bfce39c89d6549f2bb94d8064d3ce69dc3d7e72b38f431d8aa0c4bf95ccee6bf</td><td>25/07/2024 03:22</td><td>25/07/2024 03:58</td><td>1.72188e+12</td><td>1.72188e+12</td></tr>\n",
       "\t<tr><td>36d9cbb4c6bc0c1a6911436d2da0d09ec625e43e6552f575d4acc9cf487c4686</td><td>25/05/2024 16:01</td><td>25/05/2024 16:12</td><td>1.71665e+12</td><td>1.71665e+12</td></tr>\n",
       "\t<tr><td>bfce39c89d6549f2bb94d8064d3ce69dc3d7e72b38f431d8aa0c4bf95ccee6bf</td><td>23/06/2024 15:08</td><td>23/06/2024 17:10</td><td>1.71916e+12</td><td>1.71916e+12</td></tr>\n",
       "</tbody>\n",
       "</table>\n"
      ],
      "text/latex": [
       "A tibble: 6 × 5\n",
       "\\begin{tabular}{lllll}\n",
       " hashed\\_email & start\\_time & end\\_time & original\\_start\\_time & original\\_end\\_time\\\\\n",
       " <chr> & <chr> & <chr> & <dbl> & <dbl>\\\\\n",
       "\\hline\n",
       "\t bfce39c89d6549f2bb94d8064d3ce69dc3d7e72b38f431d8aa0c4bf95ccee6bf & 30/06/2024 18:12 & 30/06/2024 18:24 & 1.71977e+12 & 1.71977e+12\\\\\n",
       "\t 36d9cbb4c6bc0c1a6911436d2da0d09ec625e43e6552f575d4acc9cf487c4686 & 17/06/2024 23:33 & 17/06/2024 23:46 & 1.71867e+12 & 1.71867e+12\\\\\n",
       "\t f8f5477f5a2e53616ae37421b1c660b971192bd8ff77e3398304c7ae42581fdc & 25/07/2024 17:34 & 25/07/2024 17:57 & 1.72193e+12 & 1.72193e+12\\\\\n",
       "\t bfce39c89d6549f2bb94d8064d3ce69dc3d7e72b38f431d8aa0c4bf95ccee6bf & 25/07/2024 03:22 & 25/07/2024 03:58 & 1.72188e+12 & 1.72188e+12\\\\\n",
       "\t 36d9cbb4c6bc0c1a6911436d2da0d09ec625e43e6552f575d4acc9cf487c4686 & 25/05/2024 16:01 & 25/05/2024 16:12 & 1.71665e+12 & 1.71665e+12\\\\\n",
       "\t bfce39c89d6549f2bb94d8064d3ce69dc3d7e72b38f431d8aa0c4bf95ccee6bf & 23/06/2024 15:08 & 23/06/2024 17:10 & 1.71916e+12 & 1.71916e+12\\\\\n",
       "\\end{tabular}\n"
      ],
      "text/markdown": [
       "\n",
       "A tibble: 6 × 5\n",
       "\n",
       "| hashed_email &lt;chr&gt; | start_time &lt;chr&gt; | end_time &lt;chr&gt; | original_start_time &lt;dbl&gt; | original_end_time &lt;dbl&gt; |\n",
       "|---|---|---|---|---|\n",
       "| bfce39c89d6549f2bb94d8064d3ce69dc3d7e72b38f431d8aa0c4bf95ccee6bf | 30/06/2024 18:12 | 30/06/2024 18:24 | 1.71977e+12 | 1.71977e+12 |\n",
       "| 36d9cbb4c6bc0c1a6911436d2da0d09ec625e43e6552f575d4acc9cf487c4686 | 17/06/2024 23:33 | 17/06/2024 23:46 | 1.71867e+12 | 1.71867e+12 |\n",
       "| f8f5477f5a2e53616ae37421b1c660b971192bd8ff77e3398304c7ae42581fdc | 25/07/2024 17:34 | 25/07/2024 17:57 | 1.72193e+12 | 1.72193e+12 |\n",
       "| bfce39c89d6549f2bb94d8064d3ce69dc3d7e72b38f431d8aa0c4bf95ccee6bf | 25/07/2024 03:22 | 25/07/2024 03:58 | 1.72188e+12 | 1.72188e+12 |\n",
       "| 36d9cbb4c6bc0c1a6911436d2da0d09ec625e43e6552f575d4acc9cf487c4686 | 25/05/2024 16:01 | 25/05/2024 16:12 | 1.71665e+12 | 1.71665e+12 |\n",
       "| bfce39c89d6549f2bb94d8064d3ce69dc3d7e72b38f431d8aa0c4bf95ccee6bf | 23/06/2024 15:08 | 23/06/2024 17:10 | 1.71916e+12 | 1.71916e+12 |\n",
       "\n"
      ],
      "text/plain": [
       "  hashed_email                                                    \n",
       "1 bfce39c89d6549f2bb94d8064d3ce69dc3d7e72b38f431d8aa0c4bf95ccee6bf\n",
       "2 36d9cbb4c6bc0c1a6911436d2da0d09ec625e43e6552f575d4acc9cf487c4686\n",
       "3 f8f5477f5a2e53616ae37421b1c660b971192bd8ff77e3398304c7ae42581fdc\n",
       "4 bfce39c89d6549f2bb94d8064d3ce69dc3d7e72b38f431d8aa0c4bf95ccee6bf\n",
       "5 36d9cbb4c6bc0c1a6911436d2da0d09ec625e43e6552f575d4acc9cf487c4686\n",
       "6 bfce39c89d6549f2bb94d8064d3ce69dc3d7e72b38f431d8aa0c4bf95ccee6bf\n",
       "  start_time       end_time         original_start_time original_end_time\n",
       "1 30/06/2024 18:12 30/06/2024 18:24 1.71977e+12         1.71977e+12      \n",
       "2 17/06/2024 23:33 17/06/2024 23:46 1.71867e+12         1.71867e+12      \n",
       "3 25/07/2024 17:34 25/07/2024 17:57 1.72193e+12         1.72193e+12      \n",
       "4 25/07/2024 03:22 25/07/2024 03:58 1.72188e+12         1.72188e+12      \n",
       "5 25/05/2024 16:01 25/05/2024 16:12 1.71665e+12         1.71665e+12      \n",
       "6 23/06/2024 15:08 23/06/2024 17:10 1.71916e+12         1.71916e+12      "
      ]
     },
     "metadata": {},
     "output_type": "display_data"
    }
   ],
   "source": [
    "players <- read_csv(\"https://raw.githubusercontent.com/AndyHuang36888/GroupProjectDSCI100/refs/heads/main/players.csv\")\n",
    "sessions <- read_csv(\"https://raw.githubusercontent.com/AndyHuang36888/GroupProjectDSCI100/refs/heads/main/sessions.csv\")\n",
    "\n",
    "\n",
    "# tidy data\n",
    "colnames(players) <-c(\"experience\", \"subscribe\", \"hashed_email\", \"played_hours\", \"name\", \"gender\",\"age\")\n",
    "colnames(sessions) <-c(\"hashed_email\", \"start_time\", \"end_time\", \"original_start_time\",\"original_end_time\")\n",
    "\n",
    "players_stats <- players|>\n",
    "                 select(age, played_hours)\n",
    "\n",
    "players_mean <- map_df(players_stats, mean, na.rm = TRUE)            \n",
    "players_max <- map_df(players_stats, max, na.rm = TRUE)\n",
    "players_min <- map_df(players_stats, min, na.rm = TRUE)\n",
    "players_summary <- bind_cols(players_mean, players_max) |>\n",
    "                   bind_cols(players_min)\n",
    "colnames(players_summary) <- c(\"mean_age\", \"mean_played_hours\", \"max_age\", \"max_played_hours\", \"min_age\", \"min_played_hours\")\n",
    "players_summary\n",
    "head(players)\n",
    "head(sessions)"
   ]
  },
  {
   "cell_type": "markdown",
   "id": "db9daa1f-156d-42c2-aed2-f2cd3c720cb4",
   "metadata": {},
   "source": [
    "In order to make the analysis, we will perform the **K-nearest-neighbours** to build a model that can try to predict if the player is subscribed to a game newsletter with these variables.\n",
    "Among these variables, the player's experience is the type string, we will need to convert it to a numeric value if we want to use it as a predictor."
   ]
  },
  {
   "cell_type": "markdown",
   "id": "c438034b-4a52-4849-af6e-6455a6722601",
   "metadata": {},
   "source": [
    "# Methods & Results\n",
    "Below are some visualizations of the data and the relationship of selected predictors."
   ]
  },
  {
   "cell_type": "code",
   "execution_count": null,
   "id": "a2477ad0-453c-4196-9b05-ae55191267e9",
   "metadata": {
    "vscode": {
     "languageId": "r"
    }
   },
   "outputs": [],
   "source": [
    "options(repr.plot.width = 20, repr.plot.height = 8) \n",
    "\n",
    "players_point <- players |>\n",
    "                 ggplot(aes(x = played_hours, y = age)) +\n",
    "                 geom_point() +  \n",
    "                 xlim(0, 15) +\n",
    "                 scale_fill_brewer(palette = \"Set1\") +\n",
    "                 labs(title = \"Age vs Played Hours\",\n",
    "                 x = \"Hours Played\",\n",
    "                 y = \"Age (Year)\")\n",
    "\n",
    "\n",
    "players_age <-   players |>\n",
    "                 arrange(age) |>\n",
    "                 ggplot(aes(x = age, fill = subscribe)) +\n",
    "                 geom_histogram(binwidth =5) +  \n",
    "                 scale_fill_brewer(palette = \"Set1\") +\n",
    "                 labs(title = \"Subscribe vs Age\",\n",
    "                 x = \"Age (years)\",\n",
    "                 y = \"Amount of Players\",\n",
    "                 fill = \"Subscribed\")\n",
    "                 \n",
    "players_hours <- players |>\n",
    "                 ggplot(aes(x = played_hours, fill = subscribe)) +\n",
    "                 geom_histogram() + \n",
    "                 xlim(0, 20) +\n",
    "                 ylim(0, 30) +\n",
    "                 scale_fill_brewer(palette = \"Set1\") +\n",
    "                 labs(title = \"Player's Hours distribution\",\n",
    "                 x = \"Played Hours\",\n",
    "                 y = \"Amount of players\",\n",
    "                 fill = \"Subscribed\")\n",
    "players_point\n",
    "plot_grid(players_age, players_hours, ncol = 3)\n"
   ]
  },
  {
   "cell_type": "markdown",
   "id": "f328d793-7127-4879-b296-587ef71e4508",
   "metadata": {},
   "source": [
    "From the graphs, we can see that there are not a lot of players that play more than 10 hours. This has cause a huge empty gap in the last graph. We can also see that the majority of the players are between the age of 10 to 25 years old.\n",
    "\n",
    "Because of the small number of players that have played upwards of 10 hours, it may be difficult to establish a correlation bewteen subscription and played hours. Similarly, there are not many players above the age of 30. \n",
    "\n",
    "There are also more subscribed players than unsubscribed players, which could also cause the model to predict that the player is subscribed more often. All of the players who have played upwards of 10 hours are subscribed, which could lead the model to believe that any one who has 10+ hours will subscribe to the newletter. Similarly, with age, because there are very few players over the age of 30, this could confuse the model."
   ]
  },
  {
   "cell_type": "markdown",
   "id": "630e0aa3-17de-4201-bc34-a1c55923b27a",
   "metadata": {},
   "source": [
    "# Discussion\n",
    "We can use k-nearest-neighbours classification to predict the player's experience, since subscribe is a categorical variable.\n",
    "It is assumed that players in the same class have the similar stats and appear in the same general area of the graph.\n",
    "One potential issue is that we might not be using enough predictors, or the predictors chosen are not correlated to the player's experience.\n",
    "\n",
    "\n",
    "The data is going to be split into two sets, with 75% as the training set and 25% as the testing set. The training data will be spilt into 5 more sets, so the model can be trained with cross validation. \n",
    "We ar going to compare the metrics of the models with different k values and select the one with the best accuracy.\n"
   ]
  },
  {
   "cell_type": "code",
   "execution_count": 4,
   "id": "1ed5db7a-eb03-4e52-8779-2a09731191df",
   "metadata": {},
   "outputs": [],
   "source": [
    "set.seed(2345)\n",
    "# clean data\n",
    "players_clean <- players |>\n",
    "select(age, played_hours, subscribe) |>\n",
    "mutate(subscribe = as.factor(subscribe))\n"
   ]
  },
  {
   "cell_type": "code",
   "execution_count": 5,
   "id": "488fc07f-db9d-4071-a05a-fedd8f58205a",
   "metadata": {},
   "outputs": [],
   "source": [
    "# split\n",
    "players_split <- initial_split(players_clean, prop = 0.75, strata = subscribe)\n",
    "players_training <- training(players_split)\n",
    "players_testing <- testing(players_split)\n",
    "\n",
    "players_vfold = vfold_cv(players_training, v = 5, strata = subscribe)\n",
    "     \n",
    "\n",
    "players_recipe <- recipe(subscribe ~ . , data = players_training) |>\n",
    "                       step_scale(all_predictors()) |>\n",
    "                       step_center(all_predictors())\n",
    "\n",
    "players_tune <- nearest_neighbor(weight_func = \"rectangular\", neighbors = tune()) |>\n",
    "set_engine(\"kknn\") |>\n",
    "set_mode(\"classification\")\n",
    "\n",
    "player_workflow_tune <- workflow() |>\n",
    "add_recipe(players_recipe) |>\n",
    "add_model(players_tune)\n",
    "\n",
    "     \n",
    "\n"
   ]
  },
  {
   "cell_type": "code",
   "execution_count": null,
   "id": "6795e960-57ea-49a5-86d3-a3c6c7cfd4d7",
   "metadata": {},
   "outputs": [],
   "source": [
    "# find best k\n",
    "gridvals <- tibble(neighbors = seq(from = 1, to = 31, by = 5))\n",
    "\n",
    "# compare data\n",
    "players_tune <- player_workflow_tune |>\n",
    "tune_grid(resamples = players_vfold, grid = gridvals)\n",
    "\n",
    "# select best accuracy\n",
    "tune_accuracy <- collect_metrics(players_tune) |>\n",
    "filter(.metric == \"accuracy\") \n",
    "\n",
    "\n",
    "# visualization\n",
    "accuracy_vs_k <- ggplot(tune_accuracy, aes(x = neighbors, y = mean))+\n",
    "geom_point() +\n",
    "geom_line() +\n",
    "labs(x = \"Neighbors\",\n",
    "     y = \"Accuracy\") +\n",
    "ggtitle(\"Accuracy vs Neighbors\")\n",
    "accuracy_vs_k\n",
    "\n"
   ]
  },
  {
   "cell_type": "code",
   "execution_count": null,
   "id": "b03b258d-8be4-4e88-829b-e1251b5222ce",
   "metadata": {},
   "outputs": [],
   "source": [
    "# select best\n",
    "best_k <- tune_accuracy |>\n",
    "arrange(desc(mean))  |>\n",
    "select(neighbors) |>\n",
    "slice(1) |>\n",
    "pull()\n",
    "     \n",
    "\n",
    "# best k classification\n",
    "players_model <- nearest_neighbor(weight_func = \"rectangular\", neighbors = best_k) |>\n",
    "set_engine(\"kknn\") |>\n",
    "set_mode(\"classification\")\n",
    "\n",
    "player_workflow_best <- workflow() |>\n",
    "add_recipe(players_recipe) |>\n",
    "add_model(players_model)\n",
    "     \n"
   ]
  },
  {
   "cell_type": "code",
   "execution_count": null,
   "id": "b1b2291a-d2f3-4c42-8c65-d3e5c773ad15",
   "metadata": {},
   "outputs": [],
   "source": [
    "\n",
    "# test classification model \n",
    "player_fit <- fit_resamples(player_workflow_best, players_vfold)\n",
    "player_prediction <- player_fit |>\n",
    "          predict(players_testing) |>\n",
    "          bind_cols(players_testing) \n",
    "\n",
    "prediction_plot <-player_prediction|>\n",
    "ggplot(aes(x =age, y =played_hours, color = .pred_class, shape = subscribe)) +\n",
    "geom_point()+\n",
    "labs(x = \"Age (year)\",\n",
    "     y = \"Played Hours\",\n",
    "    color = \"Predicted Subscription\",\n",
    "    shapre = \"Actual Subscription\") \n",
    "prediction_plot\n",
    "\n",
    "conf_mat(player_prediction, truth = subscribe, estimate = .pred_class)\n",
    "\n",
    "player_summary <- player_prediction |>\n",
    "metrics(truth = subscribe, estimate = .pred_class)\n",
    "player_summary\n",
    "     \n"
   ]
  }
 ],
 "metadata": {
  "kernelspec": {
   "display_name": "R",
   "language": "R",
   "name": "ir"
  },
  "language_info": {
   "codemirror_mode": "r",
   "file_extension": ".r",
   "mimetype": "text/x-r-source",
   "name": "R",
   "pygments_lexer": "r",
   "version": "4.3.3"
  }
 },
 "nbformat": 4,
 "nbformat_minor": 5
}
